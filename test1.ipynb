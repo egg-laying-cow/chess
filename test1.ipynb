{
 "cells": [
  {
   "cell_type": "code",
   "execution_count": 18,
   "metadata": {},
   "outputs": [],
   "source": [
    "import chess\n",
    "import timeit\n",
    "\n",
    "KNIGHT = (-50,-40,-30,-30,-30,-30,-40,-50,\n",
    "          -40,-20,  0,  0,  0,  0,-20,-40,\n",
    "          -30,  0, 10, 15, 15, 10,  0,-30,\n",
    "          -30,  5, 15, 20, 20, 15,  5,-30,\n",
    "          -30,  0, 15, 20, 20, 15,  0,-30,\n",
    "          -30,  5, 10, 15, 15, 10,  5,-30,\n",
    "          -40,-20,  0,  5,  5,  0,-20,-40,\n",
    "          -50,-40,-30,-30,-30,-30,-40,-50,)\n",
    "\n",
    "BISHOP = (-20,-10,-10,-10,-10,-10,-10,-20,\n",
    "          -10,  0,  0,  0,  0,  0,  0,-10,\n",
    "          -10,  0,  5, 10, 10,  5,  0,-10,\n",
    "          -10,  5,  5, 10, 10,  5,  5,-10,\n",
    "          -10,  0, 10, 10, 10, 10,  0,-10,\n",
    "          -10, 10, 10, 10, 10, 10, 10,-10,\n",
    "          -10,  5,  0,  0,  0,  0,  5,-10,\n",
    "          -20,-10,-10,-10,-10,-10,-10,-20,)\n",
    "\n",
    "ROOK =   (0,  0,  0,  0,  0,  0,  0,  0,\n",
    "          5, 10, 10, 10, 10, 10, 10,  5,\n",
    "         -5,  0,  0,  0,  0,  0,  0, -5,\n",
    "         -5,  0,  0,  0,  0,  0,  0, -5,\n",
    "         -5,  0,  0,  0,  0,  0,  0, -5,\n",
    "         -5,  0,  0,  0,  0,  0,  0, -5,\n",
    "         -5,  0,  0,  0,  0,  0,  0, -5,\n",
    "          0,  0,  0,  5,  5,  0,  0,  0)\n",
    "\n",
    "QUEEN = (-20,-10,-10, -5, -5,-10,-10,-20,\n",
    "         -10,  0,  0,  0,  0,  0,  0,-10,\n",
    "         -10,  0,  5,  5,  5,  5,  0,-10,\n",
    "          -5,  0,  5,  5,  5,  5,  0, -5,\n",
    "           0,  0,  5,  5,  5,  5,  0, -5,\n",
    "         -10,  5,  5,  5,  5,  5,  0,-10,\n",
    "         -10,  0,  5,  0,  0,  0,  0,-10,\n",
    "         -20,-10,-10, -5, -5,-10,-10,-20)\n",
    "\n",
    "PAWN =  (0,  0,  0,  0,  0,  0,  0,  0,\n",
    "        50, 50, 50, 50, 50, 50, 50, 50,\n",
    "        10, 10, 20, 30, 30, 20, 10, 10,\n",
    "         5,  5, 10, 25, 25, 10,  5,  5,\n",
    "         0,  0,  0, 20, 20,  0,  0,  0,\n",
    "         5, -5,-10,  0,  0,-10, -5,  5,\n",
    "         5, 10, 10,-20,-20, 10, 10,  5,\n",
    "         0,  0,  0,  0,  0,  0,  0,  0)\n",
    "\n",
    "KING = (-50,-40,-30,-20,-20,-30,-40,-50,\n",
    "        -30,-20,-10,  0,  0,-10,-20,-30,\n",
    "        -30,-10, 10, 15, 15, 10,-10,-30,\n",
    "        -30,-10, 15, 20, 20, 15,-10,-30,\n",
    "        -30,-10, 15, 20, 20, 15,-10,-30,\n",
    "        -30,-10, 10, 10, 10, 10,-10,-30,\n",
    "         15, 15,  0,  0,  0,  0, 15, 15,\n",
    "         15, 20, 10,  0,  0, 10, 20, 15)\n",
    "\n",
    "\n",
    "\n",
    "# kiểm tra tốc độ khi truy xuất 1 phần tử từ PIECES sử dụng thư viện timeit\n",
    "\n"
   ]
  },
  {
   "cell_type": "code",
   "execution_count": 19,
   "metadata": {},
   "outputs": [],
   "source": [
    "\n",
    "PIECES = {\n",
    "    chess.PAWN: PAWN,\n",
    "    chess.KNIGHT: KNIGHT,\n",
    "    chess.BISHOP: BISHOP,\n",
    "    chess.ROOK: ROOK,\n",
    "    chess.QUEEN: QUEEN,\n",
    "    chess.KING: KING,\n",
    "}"
   ]
  },
  {
   "cell_type": "code",
   "execution_count": 168,
   "metadata": {},
   "outputs": [
    {
     "data": {
      "text/plain": [
       "0.31665769999972326"
      ]
     },
     "execution_count": 168,
     "metadata": {},
     "output_type": "execute_result"
    }
   ],
   "source": [
    "timeit.timeit('PIECES[chess.ROOK]', globals=globals(), number=10000000)"
   ]
  },
  {
   "cell_type": "code",
   "execution_count": 72,
   "metadata": {},
   "outputs": [],
   "source": [
    "PIECES1 = [PAWN, KNIGHT, BISHOP, ROOK, QUEEN, KING]"
   ]
  },
  {
   "cell_type": "code",
   "execution_count": 171,
   "metadata": {},
   "outputs": [
    {
     "data": {
      "text/plain": [
       "0.29429049999998824"
      ]
     },
     "execution_count": 171,
     "metadata": {},
     "output_type": "execute_result"
    }
   ],
   "source": [
    "timeit.timeit('PIECES1[chess.ROOK - 1]', globals=globals(), number=10000000)"
   ]
  },
  {
   "cell_type": "code",
   "execution_count": null,
   "metadata": {},
   "outputs": [],
   "source": []
  },
  {
   "cell_type": "code",
   "execution_count": null,
   "metadata": {},
   "outputs": [],
   "source": []
  },
  {
   "cell_type": "code",
   "execution_count": null,
   "metadata": {},
   "outputs": [],
   "source": []
  },
  {
   "cell_type": "code",
   "execution_count": 207,
   "metadata": {},
   "outputs": [],
   "source": [
    "t = (-50,-40,-30,-20,-20,-30,-40,-50,\n",
    "        -30,-20,-10,  0,  0,-10,-20,-30,\n",
    "        -30,-10, 10, 15, 15, 10,-10,-30,\n",
    "        -30,-10, 15, 20, 20, 15,-10,-30,\n",
    "        -30,-10, 15, 20, 20, 15,-10,-30,\n",
    "        -30,-10, 10, 10, 10, 10,-10,-30,\n",
    "         15, 15,  0,  0,  0,  0, 15, 15,\n",
    "         15, 20, 10,  0,  0, 10, 20, 15)"
   ]
  },
  {
   "cell_type": "code",
   "execution_count": 208,
   "metadata": {},
   "outputs": [],
   "source": [
    "t2 = [-50,-40,-30,-20,-20,-30,-40,-50,\n",
    "        -30,-20,-10,  0,  0,-10,-20,-30,\n",
    "        -30,-10, 10, 15, 15, 10,-10,-30,\n",
    "        -30,-10, 15, 20, 20, 15,-10,-30,\n",
    "        -30,-10, 15, 20, 20, 15,-10,-30,\n",
    "        -30,-10, 10, 10, 10, 10,-10,-30,\n",
    "         15, 15,  0,  0,  0,  0, 15, 15,\n",
    "         15, 20, 10,  0,  0, 10, 20, 15]"
   ]
  },
  {
   "cell_type": "code",
   "execution_count": 223,
   "metadata": {},
   "outputs": [
    {
     "data": {
      "text/plain": [
       "0.20107439999992494"
      ]
     },
     "execution_count": 223,
     "metadata": {},
     "output_type": "execute_result"
    }
   ],
   "source": [
    "timeit.timeit('t[20]', globals=globals(), number=10000000)"
   ]
  },
  {
   "cell_type": "code",
   "execution_count": 226,
   "metadata": {},
   "outputs": [
    {
     "data": {
      "text/plain": [
       "0.18364089999977296"
      ]
     },
     "execution_count": 226,
     "metadata": {},
     "output_type": "execute_result"
    }
   ],
   "source": [
    "timeit.timeit('t2[20]', globals=globals(), number=10000000)\n"
   ]
  },
  {
   "cell_type": "code",
   "execution_count": 101,
   "metadata": {},
   "outputs": [],
   "source": [
    "import numpy as np\n",
    "z = np.array(t)"
   ]
  },
  {
   "cell_type": "code",
   "execution_count": 106,
   "metadata": {},
   "outputs": [
    {
     "data": {
      "text/plain": [
       "0.49503260000005866"
      ]
     },
     "execution_count": 106,
     "metadata": {},
     "output_type": "execute_result"
    }
   ],
   "source": [
    "timeit.timeit('z[20]', globals=globals(), number=10000000)\n"
   ]
  }
 ],
 "metadata": {
  "kernelspec": {
   "display_name": "Pygame",
   "language": "python",
   "name": "python3"
  },
  "language_info": {
   "codemirror_mode": {
    "name": "ipython",
    "version": 3
   },
   "file_extension": ".py",
   "mimetype": "text/x-python",
   "name": "python",
   "nbconvert_exporter": "python",
   "pygments_lexer": "ipython3",
   "version": "3.11.7"
  }
 },
 "nbformat": 4,
 "nbformat_minor": 2
}
